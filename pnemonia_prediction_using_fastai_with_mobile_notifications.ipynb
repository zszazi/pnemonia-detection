{
  "nbformat": 4,
  "nbformat_minor": 0,
  "metadata": {
    "colab": {
      "name": "pnemonia prediction using fastai with mobile notifications.ipynb",
      "version": "0.3.2",
      "provenance": []
    },
    "kernelspec": {
      "name": "python3",
      "display_name": "Python 3"
    }
  },
  "cells": [
    {
      "cell_type": "code",
      "metadata": {
        "id": "wGaIkP2jm3m9",
        "colab_type": "code",
        "colab": {}
      },
      "source": [
        "!pip install kaggle\n"
      ],
      "execution_count": 0,
      "outputs": []
    },
    {
      "cell_type": "markdown",
      "metadata": {
        "id": "do114nRnqvLe",
        "colab_type": "text"
      },
      "source": [
        "### Head to kaggle and download your dataset\n",
        "refer to this [Youtube video](https://www.youtube.com/watch?v=eEgZtNOCJhk) on downloading kaggle dataset.\n",
        "After downloading upload your kaggle.json to jupyter workspace "
      ]
    },
    {
      "cell_type": "code",
      "metadata": {
        "id": "MN5JGEDynKW4",
        "colab_type": "code",
        "colab": {}
      },
      "source": [
        "!mkdir -p ~/.kaggle\n",
        "!cp kaggle.json ~/.kaggle/\n",
        "\n",
        "#change permission\n",
        "!chmod 600 ~/.kaggle/kaggle.json"
      ],
      "execution_count": 0,
      "outputs": []
    },
    {
      "cell_type": "code",
      "metadata": {
        "id": "UcSkhHb7nWXD",
        "colab_type": "code",
        "colab": {}
      },
      "source": [
        "!kaggle datasets download -d paultimothymooney/chest-xray-pneumonia"
      ],
      "execution_count": 0,
      "outputs": []
    },
    {
      "cell_type": "code",
      "metadata": {
        "id": "02HdNixqnW3e",
        "colab_type": "code",
        "colab": {}
      },
      "source": [
        "!unzip chest-xray-pneumonia.zip"
      ],
      "execution_count": 0,
      "outputs": []
    },
    {
      "cell_type": "code",
      "metadata": {
        "id": "Kkl8VYjunXP1",
        "colab_type": "code",
        "colab": {}
      },
      "source": [
        "!unzip chest_xray.zip"
      ],
      "execution_count": 0,
      "outputs": []
    },
    {
      "cell_type": "code",
      "metadata": {
        "id": "CGYfg-Ionffa",
        "colab_type": "code",
        "colab": {}
      },
      "source": [
        "PATH = \"../pnemonia-detection/chest_xray/train\""
      ],
      "execution_count": 0,
      "outputs": []
    },
    {
      "cell_type": "code",
      "metadata": {
        "id": "CDQkZe1Qnf64",
        "colab_type": "code",
        "colab": {}
      },
      "source": [
        "!cd ../content/chest_xray/train/"
      ],
      "execution_count": 0,
      "outputs": []
    },
    {
      "cell_type": "code",
      "metadata": {
        "id": "pB31Wn5-ngUS",
        "colab_type": "code",
        "colab": {}
      },
      "source": [
        "!ls"
      ],
      "execution_count": 0,
      "outputs": []
    },
    {
      "cell_type": "code",
      "metadata": {
        "id": "KLqr47ptngyx",
        "colab_type": "code",
        "colab": {}
      },
      "source": [
        "from os import path\n",
        "path.exists(PATH)"
      ],
      "execution_count": 0,
      "outputs": []
    },
    {
      "cell_type": "code",
      "metadata": {
        "id": "rIyIEpRAnrx8",
        "colab_type": "code",
        "colab": {}
      },
      "source": [
        "%reload_ext autoreload\n",
        "%autoreload 2\n",
        "%matplotlib inline"
      ],
      "execution_count": 0,
      "outputs": []
    },
    {
      "cell_type": "code",
      "metadata": {
        "id": "DATVVqWGnsI9",
        "colab_type": "code",
        "colab": {}
      },
      "source": [
        "from fastai.vision import *\n",
        "from fastai.metrics import accuracy"
      ],
      "execution_count": 0,
      "outputs": []
    },
    {
      "cell_type": "code",
      "metadata": {
        "id": "0PCGQcT6nshU",
        "colab_type": "code",
        "colab": {}
      },
      "source": [
        "data = ImageDataBunch.from_folder(PATH, valid_pct=0.2,\n",
        "        ds_tfms=get_transforms(), size=224, bs = 64).normalize(imagenet_stats)"
      ],
      "execution_count": 0,
      "outputs": []
    },
    {
      "cell_type": "code",
      "metadata": {
        "id": "sHOq4-rjns-b",
        "colab_type": "code",
        "colab": {}
      },
      "source": [
        "data.show_batch(rows = 2, fig = (5,5))"
      ],
      "execution_count": 0,
      "outputs": []
    },
    {
      "cell_type": "code",
      "metadata": {
        "id": "qbb92Wq6nuo6",
        "colab_type": "code",
        "colab": {}
      },
      "source": [
        "class NotificationCallback(Callback):\n",
        "    \"\"\"\n",
        "        PyTorch callback for model training\n",
        "    \"\"\"\n",
        "    def on_train_begin(self, metrics_names: StrList, **kwargs: Any) -> None:\n",
        "        send_notification(\"Training has Begun \")\n",
        "\n",
        "        \n",
        "    def on_epoch_end(self,  epoch: int, smooth_loss: Tensor, last_metrics: MetricsList, **kwargs: Any) -> None:\n",
        "        super().on_epoch_end(**kwargs)\n",
        "        val_loss, accuracy = last_metrics[0], last_metrics[1]\n",
        "        message = \"Epoch: \" +str(epoch+1) + \"-> \" +\"Train loss: \" +f\"{smooth_loss.item():.4f}\" + \" , \" +\" Val loss: \"+ f\"{val_loss:.4f}\" + \" , \" + \" Accuracy: \" +f\"{accuracy:.4f}\"\n",
        "        send_notification(message)\n",
        "        \n",
        "    def on_train_end(self, metrics, **kwargs: Any) -> None:\n",
        "        super().on_train_end(**kwargs)\n",
        "        send_notification(\"Training finished \")"
      ],
      "execution_count": 0,
      "outputs": []
    },
    {
      "cell_type": "markdown",
      "metadata": {
        "id": "WHfXi4JdoL2H",
        "colab_type": "text"
      },
      "source": [
        "####Head over to https://pushover.net and get your api key and download mobile app too"
      ]
    },
    {
      "cell_type": "code",
      "metadata": {
        "id": "U56LkrCunufn",
        "colab_type": "code",
        "colab": {}
      },
      "source": [
        "def send_notification(msg):\n",
        "    \"\"\"\n",
        "        Send message to mobile using Pushover notifications.\n",
        "        Calls Pushover API to do that.\n",
        "        Pushover API docs: https://pushover.net/api\n",
        "    \"\"\"\n",
        "    import requests\n",
        "    from datetime import datetime\n",
        "\n",
        "    url = \"https://api.pushover.net/1/messages.json\"\n",
        "    data = {\n",
        "        \"user\"  : \"SECRET\",\n",
        "        \"token\" : \"SECRET\",\n",
        "        \"sound\" : \"cashregister\"\n",
        "    }\n",
        "    data[\"message\"] = msg\n",
        "    data['message'] = data['message'] + \"\\n\" + str(datetime.now())\n",
        "\n",
        "    r =  requests.post(url = url, data = data)"
      ],
      "execution_count": 0,
      "outputs": []
    },
    {
      "cell_type": "code",
      "metadata": {
        "id": "v-I3WdEinuWU",
        "colab_type": "code",
        "colab": {}
      },
      "source": [
        "notif_cb = NotificationCallback()"
      ],
      "execution_count": 0,
      "outputs": []
    },
    {
      "cell_type": "markdown",
      "metadata": {
        "id": "Stqr4SFBomUR",
        "colab_type": "text"
      },
      "source": [
        "### Create Learner\n"
      ]
    },
    {
      "cell_type": "code",
      "metadata": {
        "id": "t11QJLPgnuL-",
        "colab_type": "code",
        "colab": {}
      },
      "source": [
        "learn = cnn_learner(data, models.resnet50, metrics=[accuracy,error_rate] , model_dir=\"/tmp/model/\",callbacks = [notif_cb])"
      ],
      "execution_count": 0,
      "outputs": []
    },
    {
      "cell_type": "markdown",
      "metadata": {
        "id": "-O_NWynHp0tW",
        "colab_type": "text"
      },
      "source": [
        "### If everything works well you should be getting notifs on your mobile phone on running below cell"
      ]
    },
    {
      "cell_type": "code",
      "metadata": {
        "id": "5jPzY7Swntnf",
        "colab_type": "code",
        "colab": {}
      },
      "source": [
        "learn.fit_one_cycle(4)"
      ],
      "execution_count": 0,
      "outputs": []
    },
    {
      "cell_type": "code",
      "metadata": {
        "id": "Ur8fZ6ZAoxHG",
        "colab_type": "code",
        "colab": {}
      },
      "source": [
        "learn.recorder.plot_metrics()"
      ],
      "execution_count": 0,
      "outputs": []
    },
    {
      "cell_type": "markdown",
      "metadata": {
        "id": "6gwPSRD0o13h",
        "colab_type": "text"
      },
      "source": [
        "### Save the plot to be sent as mobile notifications"
      ]
    },
    {
      "cell_type": "code",
      "metadata": {
        "id": "Cp480CNPoxDi",
        "colab_type": "code",
        "colab": {}
      },
      "source": [
        "import matplotlib\n",
        "import matplotlib.pyplot as plt\n",
        "learn.recorder.plot_losses()\n",
        "\n",
        "plt.savefig('lossplot.png')"
      ],
      "execution_count": 0,
      "outputs": []
    },
    {
      "cell_type": "code",
      "metadata": {
        "id": "zX_dtolHoxB-",
        "colab_type": "code",
        "colab": {}
      },
      "source": [
        "PATH_TO_IMAGE = \"../pnemonia-detection/lossplot.png\""
      ],
      "execution_count": 0,
      "outputs": []
    },
    {
      "cell_type": "markdown",
      "metadata": {
        "id": "MEV9p3yLprcc",
        "colab_type": "text"
      },
      "source": [
        "## Running below cell send the loss plot to your mobile phone as notification\n",
        "Insert your token and user key generated from pushover below"
      ]
    },
    {
      "cell_type": "code",
      "metadata": {
        "id": "kUBufFblow_E",
        "colab_type": "code",
        "colab": {}
      },
      "source": [
        "import requests\n",
        "r = requests.post(\"https://api.pushover.net/1/messages.json\", data={\"token\":\"SECRET KEY\",\"user\":\"SECRET KEY\",\"message\":\"Loss Plots\"}, files={\"attachment\":open(PATH_TO_IMAGE,\"rb\")})"
      ],
      "execution_count": 0,
      "outputs": []
    },
    {
      "cell_type": "code",
      "metadata": {
        "id": "YWdEEr2Yow8Z",
        "colab_type": "code",
        "colab": {}
      },
      "source": [
        "learn.save('stage-1')"
      ],
      "execution_count": 0,
      "outputs": []
    },
    {
      "cell_type": "markdown",
      "metadata": {
        "id": "fu43KpB2plDC",
        "colab_type": "text"
      },
      "source": [
        "### Confusion matrix and top losses"
      ]
    },
    {
      "cell_type": "code",
      "metadata": {
        "id": "DmSm_qFeow4t",
        "colab_type": "code",
        "colab": {}
      },
      "source": [
        "interp = ClassificationInterpretation.from_learner(learn)\n",
        "\n",
        "losses,idxs = interp.top_losses()"
      ],
      "execution_count": 0,
      "outputs": []
    },
    {
      "cell_type": "code",
      "metadata": {
        "id": "aCW5VObEow3L",
        "colab_type": "code",
        "colab": {}
      },
      "source": [
        "interp.plot_top_losses(9, figsize=(15,11))"
      ],
      "execution_count": 0,
      "outputs": []
    },
    {
      "cell_type": "code",
      "metadata": {
        "id": "pilhcNcpowwR",
        "colab_type": "code",
        "colab": {}
      },
      "source": [
        "interp.plot_confusion_matrix(figsize=(12,12), dpi=60)"
      ],
      "execution_count": 0,
      "outputs": []
    },
    {
      "cell_type": "code",
      "metadata": {
        "id": "L53gIYPzowQf",
        "colab_type": "code",
        "colab": {}
      },
      "source": [
        ""
      ],
      "execution_count": 0,
      "outputs": []
    }
  ]
}